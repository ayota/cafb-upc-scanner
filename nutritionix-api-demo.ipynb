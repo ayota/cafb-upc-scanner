{
 "cells": [
  {
   "cell_type": "code",
   "execution_count": null,
   "metadata": {
    "collapsed": true
   },
   "outputs": [],
   "source": [
    "import nutritionix\n",
    "import os\n",
    "import unirest"
   ]
  },
  {
   "cell_type": "code",
   "execution_count": null,
   "metadata": {
    "collapsed": true
   },
   "outputs": [],
   "source": [
    "#Nutritionnix Python API wrapper\n",
    "nix = nutritionix.Nutritionix(app_id=os.environ.get('NIX_APP_ID'), api_key=os.environ.get('NIX_API_KEY'))\n",
    "\n",
    "#allows you check by brand, but not by UPC \n",
    "nix.brand().search(query=\"Bush's\").json()"
   ]
  },
  {
   "cell_type": "code",
   "execution_count": null,
   "metadata": {
    "collapsed": true
   },
   "outputs": [],
   "source": [
    "\n",
    "#list of UPC codes to test out\n",
    "listOfFoods = [ \"0021130322312\", \"0041190750375\", \"0041331125734\",\"0600350115463\",\"0070222074356\",\"0024000162995\",\n",
    "\"071109999069\", \"072036411600\", \"024400578031\",\"0077890735947\", \"0688267026416\",\"041303004166\",\n",
    "\"041303010174\",\"0021130340149\",\"0041303010204\",\"0041303004043\", \"0085239160916\",\"0041303004050\", \"0688267023880\",\n",
    "\"007874228990\", \"0021130337026\",\"0075669101900\",\"0021130339020\",\"0688267027819\", \"0039400017745\"]"
   ]
  },
  {
   "cell_type": "code",
   "execution_count": null,
   "metadata": {
    "collapsed": true
   },
   "outputs": [],
   "source": [
    "#loop to check if the food is in the nutritionix database with a 5 second lag\n",
    "codeChecks = []\n",
    "for code in listOfFoods:\n",
    "    if len(str(code)) != 13:\n",
    "        next\n",
    "    else:\n",
    "        #fill in your api key and appID\n",
    "        response = unirest.get(\"https://api.nutritionix.com/v1_1/item?upc={upc}&appId=aa8de201b1c0ba1719d905521fd61fab72a2b7ea&appKey=d6e31803\".format(\n",
    "        apiID=os.environ.get('NIX_APP_ID'), apiKey=os.environ.get('NIX_API_KEY'),upc=code),\n",
    "                               headers={\"Accept\": \"application/json\"}\n",
    "                              )\n",
    "        codeChecks.append(response.code)\n",
    "        unirest.timeout(5)\n",
    "        \n",
    "#ignore this output because Nutritionix timed me out for 24 hours T_T\n",
    "codeChecks"
   ]
  },
  {
   "cell_type": "code",
   "execution_count": null,
   "metadata": {
    "collapsed": true
   },
   "outputs": [],
   "source": [
    "\n",
    "#200 indicates the match is successful!\n",
    "codeChecks"
   ]
  }
 ],
 "metadata": {
  "kernelspec": {
   "display_name": "Python 2",
   "language": "python",
   "name": "python2"
  },
  "language_info": {
   "codemirror_mode": {
    "name": "ipython",
    "version": 2
   },
   "file_extension": ".py",
   "mimetype": "text/x-python",
   "name": "python",
   "nbconvert_exporter": "python",
   "pygments_lexer": "ipython2",
   "version": "2.7.11"
  }
 },
 "nbformat": 4,
 "nbformat_minor": 0
}
